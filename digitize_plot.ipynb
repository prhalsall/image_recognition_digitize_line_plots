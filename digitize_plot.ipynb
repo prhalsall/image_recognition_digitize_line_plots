{
 "cells": [
  {
   "cell_type": "code",
   "execution_count": 1,
   "metadata": {},
   "outputs": [],
   "source": [
    "import numpy as np"
   ]
  },
  {
   "cell_type": "code",
   "execution_count": 2,
   "metadata": {},
   "outputs": [
    {
     "data": {
      "text/plain": [
       "array([[ 0.55913797, -0.47116996, -2.23156576, -0.77240234],\n",
       "       [-0.03810617, -1.53171878, -0.28510149,  0.31991084]])"
      ]
     },
     "execution_count": 2,
     "metadata": {},
     "output_type": "execute_result"
    }
   ],
   "source": [
    "np.random.randn(2,4)"
   ]
  },
  {
   "cell_type": "code",
   "execution_count": 3,
   "metadata": {},
   "outputs": [
    {
     "data": {
      "text/plain": [
       "array([ 0.08824353, -1.35693308,  1.25581636, -0.39760955,  0.71644892,\n",
       "        0.4650565 ,  0.43328633,  1.47480238, -0.424543  ,  0.46322827])"
      ]
     },
     "execution_count": 3,
     "metadata": {},
     "output_type": "execute_result"
    }
   ],
   "source": [
    "np.random.randn(10)"
   ]
  },
  {
   "cell_type": "code",
   "execution_count": 4,
   "metadata": {},
   "outputs": [
    {
     "data": {
      "text/plain": [
       "array([19,  8, 13, 18, 18, 21,  8, 12, 16, 22, 17, 19, 23, 12, 21, 13, 17,\n",
       "       18,  8, 13, 23,  8, 23, 10, 21, 10,  9, 21, 13, 22, 23, 12, 16, 13,\n",
       "       17, 14, 10, 15, 22, 11,  7, 19, 22, 16, 19, 12, 19, 13, 20, 19, 12,\n",
       "        8, 22, 19, 14, 18, 22, 21, 13, 21, 18, 23,  8,  7,  7, 15, 10, 13,\n",
       "       19, 15, 13, 16, 22, 15,  9,  9, 10, 22, 20, 22, 20, 23, 13, 18, 11,\n",
       "       12,  7,  9, 18, 16, 22, 15,  9,  8, 10, 19, 16, 20, 12,  8, 11, 10,\n",
       "       18, 16, 16, 14, 21,  9, 22, 11, 22, 20, 20, 10, 15, 13, 16, 12, 15,\n",
       "       18, 11,  7, 12, 10, 11,  8, 23, 18, 17, 11,  9,  7, 15, 12,  7, 12,\n",
       "       18, 19, 19, 19, 11, 21, 21, 10, 12, 20, 16, 11, 21, 22, 12, 15, 11,\n",
       "       11, 11, 18, 17,  8, 22, 15,  8, 23,  8,  7, 16, 23, 22, 20, 16, 13,\n",
       "       15, 22, 11, 17, 20, 14, 19,  9, 10, 11,  8, 22, 14, 20, 21, 17, 12,\n",
       "       19, 21, 20, 19, 19, 21,  7,  8, 16, 12, 14, 18,  8])"
      ]
     },
     "execution_count": 4,
     "metadata": {},
     "output_type": "execute_result"
    }
   ],
   "source": [
    "np.random.randint(7,high=24,size=200)"
   ]
  },
  {
   "cell_type": "code",
   "execution_count": 2,
   "metadata": {},
   "outputs": [],
   "source": [
    "tempPnts = np.random.randint(2,high=24,size=900)\n",
    "tempPnts[::-1].sort()\n"
   ]
  },
  {
   "cell_type": "code",
   "execution_count": 13,
   "metadata": {},
   "outputs": [
    {
     "data": {
      "text/plain": [
       "array([23, 23, 23, 23, 23, 23, 23, 23, 23, 23, 23, 23, 23, 23, 23, 23, 23,\n",
       "       23, 23, 23, 23, 23, 23, 23, 23, 23, 23, 23, 23, 23, 23, 23, 23, 23,\n",
       "       22, 22, 22, 22, 22, 22, 22, 22, 22, 22, 22, 22, 22, 22, 22, 22, 22,\n",
       "       22, 22, 22, 22, 22, 22, 22, 22, 22, 22, 22, 22, 22, 22, 22, 22, 22,\n",
       "       22, 22, 22, 21, 21, 21, 21, 21, 21, 21, 21, 21, 21, 21, 21, 21, 21,\n",
       "       21, 21, 21, 21, 21, 21, 21, 21, 21, 21, 21, 21, 21, 21, 21, 21, 21,\n",
       "       21, 21, 21, 21, 21, 21, 21, 21, 21, 21, 21, 21, 21, 21, 21, 21, 20,\n",
       "       20, 20, 20, 20, 20, 20, 20, 20, 20, 20, 20, 20, 20, 20, 20, 20, 20,\n",
       "       20, 20, 20, 20, 20, 20, 20, 20, 20, 20, 20, 20, 20, 20, 20, 20, 20,\n",
       "       20, 20, 20, 20, 20, 20, 20, 20, 20, 20, 20, 20, 20, 19, 19, 19, 19,\n",
       "       19, 19, 19, 19, 19, 19, 19, 19, 19, 19, 19, 19, 19, 19, 19, 19, 19,\n",
       "       19, 19, 19, 19, 19, 19, 19, 19, 19, 19, 19, 19, 19, 19, 19, 19, 19,\n",
       "       19, 19, 19, 19, 19, 18, 18, 18, 18, 18, 18, 18, 18, 18, 18, 18, 18,\n",
       "       18, 18, 18, 18, 18, 18, 18, 18, 18, 18, 18, 18, 18, 18, 18, 18, 18,\n",
       "       18, 18, 18, 18, 18, 18, 18, 18, 18, 18, 18, 18, 18, 18, 18, 18, 18,\n",
       "       18, 17, 17, 17, 17, 17, 17, 17, 17, 17, 17, 17, 17, 17, 17, 17, 17,\n",
       "       17, 17, 17, 17, 17, 17, 17, 17, 17, 17, 17, 17, 17, 17, 17, 17, 17,\n",
       "       17, 17, 17, 17, 17, 17, 17, 17, 17, 16, 16, 16, 16, 16, 16, 16, 16,\n",
       "       16, 16, 16, 16, 16, 16, 16, 16, 16, 16, 16, 16, 16, 16, 16, 16, 16,\n",
       "       16, 16, 16, 16, 16, 16, 16, 16, 16, 16, 16, 16, 16, 16, 16, 15, 15,\n",
       "       15, 15, 15, 15, 15, 15, 15, 15, 15, 15, 15, 15, 15, 15, 15, 15, 15,\n",
       "       15, 15, 15, 15, 15, 15, 15, 15, 15, 15, 15, 15, 15, 15, 15, 15, 15,\n",
       "       15, 15, 15, 15, 15, 15, 14, 14, 14, 14, 14, 14, 14, 14, 14, 14, 14,\n",
       "       14, 14, 14, 14, 14, 14, 14, 14, 14, 14, 14, 14, 14, 14, 14, 14, 14,\n",
       "       14, 14, 14, 14, 14, 14, 14, 14, 14, 14, 14, 14, 14, 14, 14, 14, 13,\n",
       "       13, 13, 13, 13, 13, 13, 13, 13, 13, 13, 13, 13, 13, 13, 13, 13, 13,\n",
       "       13, 13, 13, 13, 13, 13, 13, 13, 13, 13, 13, 13, 13, 13, 12, 12, 12,\n",
       "       12, 12, 12, 12, 12, 12, 12, 12, 12, 12, 12, 12, 12, 12, 12, 12, 12,\n",
       "       12, 12, 12, 12, 12, 12, 12, 12, 12, 12, 12, 12, 12, 12, 12, 12, 12,\n",
       "       12, 12, 12, 12, 12, 12, 12, 11, 11, 11, 11, 11, 11, 11, 11, 11, 11,\n",
       "       11, 11, 11, 11, 11, 11, 11, 11, 11, 11, 11, 11, 11, 11, 11, 11, 11,\n",
       "       11, 11, 11, 11, 11, 11, 11, 11, 11, 11, 11, 11, 11, 11, 11, 11, 11,\n",
       "       10, 10, 10, 10, 10, 10, 10, 10, 10, 10, 10, 10, 10, 10, 10, 10, 10,\n",
       "       10, 10, 10, 10, 10, 10, 10, 10, 10, 10, 10, 10, 10, 10, 10, 10, 10,\n",
       "       10, 10, 10, 10, 10, 10, 10,  9,  9,  9,  9,  9,  9,  9,  9,  9,  9,\n",
       "        9,  9,  9,  9,  9,  9,  9,  9,  9,  9,  9,  9,  9,  9,  9,  9,  9,\n",
       "        9,  9,  9,  9,  9,  9,  9,  9,  9,  9,  9,  8,  8,  8,  8,  8,  8,\n",
       "        8,  8,  8,  8,  8,  8,  8,  8,  8,  8,  8,  8,  8,  8,  8,  8,  8,\n",
       "        8,  8,  8,  8,  8,  8,  8,  8,  7,  7,  7,  7,  7,  7,  7,  7,  7,\n",
       "        7,  7,  7,  7,  7,  7,  7,  7,  7,  7,  7,  7,  7,  7,  7,  7,  7,\n",
       "        7,  7,  7,  7,  7,  7,  7,  7,  7,  7,  7,  7,  7,  7,  7,  7,  7,\n",
       "        7,  7,  7,  7,  7,  7,  6,  6,  6,  6,  6,  6,  6,  6,  6,  6,  6,\n",
       "        6,  6,  6,  6,  6,  6,  6,  6,  6,  6,  6,  6,  6,  6,  6,  6,  6,\n",
       "        6,  6,  6,  6,  6,  6,  6,  6,  6,  5,  5,  5,  5,  5,  5,  5,  5,\n",
       "        5,  5,  5,  5,  5,  5,  5,  5,  5,  5,  5,  5,  5,  5,  5,  5,  5,\n",
       "        5,  5,  5,  5,  5,  5,  5,  5,  5,  5,  5,  4,  4,  4,  4,  4,  4,\n",
       "        4,  4,  4,  4,  4,  4,  4,  4,  4,  4,  4,  4,  4,  4,  4,  4,  4,\n",
       "        4,  4,  4,  4,  4,  4,  4,  4,  4,  4,  3,  3,  3,  3,  3,  3,  3,\n",
       "        3,  3,  3,  3,  3,  3,  3,  3,  3,  3,  3,  3,  3,  3,  3,  3,  3,\n",
       "        3,  3,  3,  3,  3,  3,  3,  3,  3,  3,  3,  3,  3,  3,  3,  3,  2,\n",
       "        2,  2,  2,  2,  2,  2,  2,  2,  2,  2,  2,  2,  2,  2,  2,  2,  2,\n",
       "        2,  2,  2,  2,  2,  2,  2,  2,  2,  2,  2,  2,  2,  2,  2,  2,  2,\n",
       "        2,  2,  2,  2,  2,  2,  2,  2,  2,  2,  2,  2,  2,  2,  2,  2])"
      ]
     },
     "execution_count": 13,
     "metadata": {},
     "output_type": "execute_result"
    }
   ],
   "source": [
    "tempPnts"
   ]
  },
  {
   "cell_type": "code",
   "execution_count": 15,
   "metadata": {},
   "outputs": [
    {
     "data": {
      "text/plain": [
       "array([   0.        ,   -4.08163265,   -8.16326531,  -12.24489796,\n",
       "        -16.32653061,  -20.40816327,  -24.48979592,  -28.57142857,\n",
       "        -32.65306122,  -36.73469388,  -40.81632653,  -44.89795918,\n",
       "        -48.97959184,  -53.06122449,  -57.14285714,  -61.2244898 ,\n",
       "        -65.30612245,  -69.3877551 ,  -73.46938776,  -77.55102041,\n",
       "        -81.63265306,  -85.71428571,  -89.79591837,  -93.87755102,\n",
       "        -97.95918367, -102.04081633, -106.12244898, -110.20408163,\n",
       "       -114.28571429, -118.36734694, -122.44897959, -126.53061224,\n",
       "       -130.6122449 , -134.69387755, -138.7755102 , -142.85714286,\n",
       "       -146.93877551, -151.02040816, -155.10204082, -159.18367347,\n",
       "       -163.26530612, -167.34693878, -171.42857143, -175.51020408,\n",
       "       -179.59183673, -183.67346939, -187.75510204, -191.83673469,\n",
       "       -195.91836735, -200.        ])"
      ]
     },
     "execution_count": 15,
     "metadata": {},
     "output_type": "execute_result"
    }
   ],
   "source": [
    "np.linspace(0,-200)"
   ]
  },
  {
   "cell_type": "code",
   "execution_count": 16,
   "metadata": {
    "scrolled": true
   },
   "outputs": [
    {
     "data": {
      "text/plain": [
       "array([   0.        ,   -1.00111235,   -2.00222469,   -3.00333704,\n",
       "         -4.00444939,   -5.00556174,   -6.00667408,   -7.00778643,\n",
       "         -8.00889878,   -9.01001112,  -10.01112347,  -11.01223582,\n",
       "        -12.01334816,  -13.01446051,  -14.01557286,  -15.01668521,\n",
       "        -16.01779755,  -17.0189099 ,  -18.02002225,  -19.02113459,\n",
       "        -20.02224694,  -21.02335929,  -22.02447164,  -23.02558398,\n",
       "        -24.02669633,  -25.02780868,  -26.02892102,  -27.03003337,\n",
       "        -28.03114572,  -29.03225806,  -30.03337041,  -31.03448276,\n",
       "        -32.03559511,  -33.03670745,  -34.0378198 ,  -35.03893215,\n",
       "        -36.04004449,  -37.04115684,  -38.04226919,  -39.04338154,\n",
       "        -40.04449388,  -41.04560623,  -42.04671858,  -43.04783092,\n",
       "        -44.04894327,  -45.05005562,  -46.05116796,  -47.05228031,\n",
       "        -48.05339266,  -49.05450501,  -50.05561735,  -51.0567297 ,\n",
       "        -52.05784205,  -53.05895439,  -54.06006674,  -55.06117909,\n",
       "        -56.06229143,  -57.06340378,  -58.06451613,  -59.06562848,\n",
       "        -60.06674082,  -61.06785317,  -62.06896552,  -63.07007786,\n",
       "        -64.07119021,  -65.07230256,  -66.07341491,  -67.07452725,\n",
       "        -68.0756396 ,  -69.07675195,  -70.07786429,  -71.07897664,\n",
       "        -72.08008899,  -73.08120133,  -74.08231368,  -75.08342603,\n",
       "        -76.08453838,  -77.08565072,  -78.08676307,  -79.08787542,\n",
       "        -80.08898776,  -81.09010011,  -82.09121246,  -83.09232481,\n",
       "        -84.09343715,  -85.0945495 ,  -86.09566185,  -87.09677419,\n",
       "        -88.09788654,  -89.09899889,  -90.10011123,  -91.10122358,\n",
       "        -92.10233593,  -93.10344828,  -94.10456062,  -95.10567297,\n",
       "        -96.10678532,  -97.10789766,  -98.10901001,  -99.11012236,\n",
       "       -100.11123471, -101.11234705, -102.1134594 , -103.11457175,\n",
       "       -104.11568409, -105.11679644, -106.11790879, -107.11902113,\n",
       "       -108.12013348, -109.12124583, -110.12235818, -111.12347052,\n",
       "       -112.12458287, -113.12569522, -114.12680756, -115.12791991,\n",
       "       -116.12903226, -117.13014461, -118.13125695, -119.1323693 ,\n",
       "       -120.13348165, -121.13459399, -122.13570634, -123.13681869,\n",
       "       -124.13793103, -125.13904338, -126.14015573, -127.14126808,\n",
       "       -128.14238042, -129.14349277, -130.14460512, -131.14571746,\n",
       "       -132.14682981, -133.14794216, -134.14905451, -135.15016685,\n",
       "       -136.1512792 , -137.15239155, -138.15350389, -139.15461624,\n",
       "       -140.15572859, -141.15684093, -142.15795328, -143.15906563,\n",
       "       -144.16017798, -145.16129032, -146.16240267, -147.16351502,\n",
       "       -148.16462736, -149.16573971, -150.16685206, -151.1679644 ,\n",
       "       -152.16907675, -153.1701891 , -154.17130145, -155.17241379,\n",
       "       -156.17352614, -157.17463849, -158.17575083, -159.17686318,\n",
       "       -160.17797553, -161.17908788, -162.18020022, -163.18131257,\n",
       "       -164.18242492, -165.18353726, -166.18464961, -167.18576196,\n",
       "       -168.1868743 , -169.18798665, -170.189099  , -171.19021135,\n",
       "       -172.19132369, -173.19243604, -174.19354839, -175.19466073,\n",
       "       -176.19577308, -177.19688543, -178.19799778, -179.19911012,\n",
       "       -180.20022247, -181.20133482, -182.20244716, -183.20355951,\n",
       "       -184.20467186, -185.2057842 , -186.20689655, -187.2080089 ,\n",
       "       -188.20912125, -189.21023359, -190.21134594, -191.21245829,\n",
       "       -192.21357063, -193.21468298, -194.21579533, -195.21690768,\n",
       "       -196.21802002, -197.21913237, -198.22024472, -199.22135706,\n",
       "       -200.22246941, -201.22358176, -202.2246941 , -203.22580645,\n",
       "       -204.2269188 , -205.22803115, -206.22914349, -207.23025584,\n",
       "       -208.23136819, -209.23248053, -210.23359288, -211.23470523,\n",
       "       -212.23581758, -213.23692992, -214.23804227, -215.23915462,\n",
       "       -216.24026696, -217.24137931, -218.24249166, -219.243604  ,\n",
       "       -220.24471635, -221.2458287 , -222.24694105, -223.24805339,\n",
       "       -224.24916574, -225.25027809, -226.25139043, -227.25250278,\n",
       "       -228.25361513, -229.25472747, -230.25583982, -231.25695217,\n",
       "       -232.25806452, -233.25917686, -234.26028921, -235.26140156,\n",
       "       -236.2625139 , -237.26362625, -238.2647386 , -239.26585095,\n",
       "       -240.26696329, -241.26807564, -242.26918799, -243.27030033,\n",
       "       -244.27141268, -245.27252503, -246.27363737, -247.27474972,\n",
       "       -248.27586207, -249.27697442, -250.27808676, -251.27919911,\n",
       "       -252.28031146, -253.2814238 , -254.28253615, -255.2836485 ,\n",
       "       -256.28476085, -257.28587319, -258.28698554, -259.28809789,\n",
       "       -260.28921023, -261.29032258, -262.29143493, -263.29254727,\n",
       "       -264.29365962, -265.29477197, -266.29588432, -267.29699666,\n",
       "       -268.29810901, -269.29922136, -270.3003337 , -271.30144605,\n",
       "       -272.3025584 , -273.30367075, -274.30478309, -275.30589544,\n",
       "       -276.30700779, -277.30812013, -278.30923248, -279.31034483,\n",
       "       -280.31145717, -281.31256952, -282.31368187, -283.31479422,\n",
       "       -284.31590656, -285.31701891, -286.31813126, -287.3192436 ,\n",
       "       -288.32035595, -289.3214683 , -290.32258065, -291.32369299,\n",
       "       -292.32480534, -293.32591769, -294.32703003, -295.32814238,\n",
       "       -296.32925473, -297.33036707, -298.33147942, -299.33259177,\n",
       "       -300.33370412, -301.33481646, -302.33592881, -303.33704116,\n",
       "       -304.3381535 , -305.33926585, -306.3403782 , -307.34149055,\n",
       "       -308.34260289, -309.34371524, -310.34482759, -311.34593993,\n",
       "       -312.34705228, -313.34816463, -314.34927697, -315.35038932,\n",
       "       -316.35150167, -317.35261402, -318.35372636, -319.35483871,\n",
       "       -320.35595106, -321.3570634 , -322.35817575, -323.3592881 ,\n",
       "       -324.36040044, -325.36151279, -326.36262514, -327.36373749,\n",
       "       -328.36484983, -329.36596218, -330.36707453, -331.36818687,\n",
       "       -332.36929922, -333.37041157, -334.37152392, -335.37263626,\n",
       "       -336.37374861, -337.37486096, -338.3759733 , -339.37708565,\n",
       "       -340.378198  , -341.37931034, -342.38042269, -343.38153504,\n",
       "       -344.38264739, -345.38375973, -346.38487208, -347.38598443,\n",
       "       -348.38709677, -349.38820912, -350.38932147, -351.39043382,\n",
       "       -352.39154616, -353.39265851, -354.39377086, -355.3948832 ,\n",
       "       -356.39599555, -357.3971079 , -358.39822024, -359.39933259,\n",
       "       -360.40044494, -361.40155729, -362.40266963, -363.40378198,\n",
       "       -364.40489433, -365.40600667, -366.40711902, -367.40823137,\n",
       "       -368.40934372, -369.41045606, -370.41156841, -371.41268076,\n",
       "       -372.4137931 , -373.41490545, -374.4160178 , -375.41713014,\n",
       "       -376.41824249, -377.41935484, -378.42046719, -379.42157953,\n",
       "       -380.42269188, -381.42380423, -382.42491657, -383.42602892,\n",
       "       -384.42714127, -385.42825362, -386.42936596, -387.43047831,\n",
       "       -388.43159066, -389.432703  , -390.43381535, -391.4349277 ,\n",
       "       -392.43604004, -393.43715239, -394.43826474, -395.43937709,\n",
       "       -396.44048943, -397.44160178, -398.44271413, -399.44382647,\n",
       "       -400.44493882, -401.44605117, -402.44716352, -403.44827586,\n",
       "       -404.44938821, -405.45050056, -406.4516129 , -407.45272525,\n",
       "       -408.4538376 , -409.45494994, -410.45606229, -411.45717464,\n",
       "       -412.45828699, -413.45939933, -414.46051168, -415.46162403,\n",
       "       -416.46273637, -417.46384872, -418.46496107, -419.46607341,\n",
       "       -420.46718576, -421.46829811, -422.46941046, -423.4705228 ,\n",
       "       -424.47163515, -425.4727475 , -426.47385984, -427.47497219,\n",
       "       -428.47608454, -429.47719689, -430.47830923, -431.47942158,\n",
       "       -432.48053393, -433.48164627, -434.48275862, -435.48387097,\n",
       "       -436.48498331, -437.48609566, -438.48720801, -439.48832036,\n",
       "       -440.4894327 , -441.49054505, -442.4916574 , -443.49276974,\n",
       "       -444.49388209, -445.49499444, -446.49610679, -447.49721913,\n",
       "       -448.49833148, -449.49944383, -450.50055617, -451.50166852,\n",
       "       -452.50278087, -453.50389321, -454.50500556, -455.50611791,\n",
       "       -456.50723026, -457.5083426 , -458.50945495, -459.5105673 ,\n",
       "       -460.51167964, -461.51279199, -462.51390434, -463.51501669,\n",
       "       -464.51612903, -465.51724138, -466.51835373, -467.51946607,\n",
       "       -468.52057842, -469.52169077, -470.52280311, -471.52391546,\n",
       "       -472.52502781, -473.52614016, -474.5272525 , -475.52836485,\n",
       "       -476.5294772 , -477.53058954, -478.53170189, -479.53281424,\n",
       "       -480.53392659, -481.53503893, -482.53615128, -483.53726363,\n",
       "       -484.53837597, -485.53948832, -486.54060067, -487.54171301,\n",
       "       -488.54282536, -489.54393771, -490.54505006, -491.5461624 ,\n",
       "       -492.54727475, -493.5483871 , -494.54949944, -495.55061179,\n",
       "       -496.55172414, -497.55283648, -498.55394883, -499.55506118,\n",
       "       -500.55617353, -501.55728587, -502.55839822, -503.55951057,\n",
       "       -504.56062291, -505.56173526, -506.56284761, -507.56395996,\n",
       "       -508.5650723 , -509.56618465, -510.567297  , -511.56840934,\n",
       "       -512.56952169, -513.57063404, -514.57174638, -515.57285873,\n",
       "       -516.57397108, -517.57508343, -518.57619577, -519.57730812,\n",
       "       -520.57842047, -521.57953281, -522.58064516, -523.58175751,\n",
       "       -524.58286986, -525.5839822 , -526.58509455, -527.5862069 ,\n",
       "       -528.58731924, -529.58843159, -530.58954394, -531.59065628,\n",
       "       -532.59176863, -533.59288098, -534.59399333, -535.59510567,\n",
       "       -536.59621802, -537.59733037, -538.59844271, -539.59955506,\n",
       "       -540.60066741, -541.60177976, -542.6028921 , -543.60400445,\n",
       "       -544.6051168 , -545.60622914, -546.60734149, -547.60845384,\n",
       "       -548.60956618, -549.61067853, -550.61179088, -551.61290323,\n",
       "       -552.61401557, -553.61512792, -554.61624027, -555.61735261,\n",
       "       -556.61846496, -557.61957731, -558.62068966, -559.621802  ,\n",
       "       -560.62291435, -561.6240267 , -562.62513904, -563.62625139,\n",
       "       -564.62736374, -565.62847608, -566.62958843, -567.63070078,\n",
       "       -568.63181313, -569.63292547, -570.63403782, -571.63515017,\n",
       "       -572.63626251, -573.63737486, -574.63848721, -575.63959956,\n",
       "       -576.6407119 , -577.64182425, -578.6429366 , -579.64404894,\n",
       "       -580.64516129, -581.64627364, -582.64738598, -583.64849833,\n",
       "       -584.64961068, -585.65072303, -586.65183537, -587.65294772,\n",
       "       -588.65406007, -589.65517241, -590.65628476, -591.65739711,\n",
       "       -592.65850945, -593.6596218 , -594.66073415, -595.6618465 ,\n",
       "       -596.66295884, -597.66407119, -598.66518354, -599.66629588,\n",
       "       -600.66740823, -601.66852058, -602.66963293, -603.67074527,\n",
       "       -604.67185762, -605.67296997, -606.67408231, -607.67519466,\n",
       "       -608.67630701, -609.67741935, -610.6785317 , -611.67964405,\n",
       "       -612.6807564 , -613.68186874, -614.68298109, -615.68409344,\n",
       "       -616.68520578, -617.68631813, -618.68743048, -619.68854283,\n",
       "       -620.68965517, -621.69076752, -622.69187987, -623.69299221,\n",
       "       -624.69410456, -625.69521691, -626.69632925, -627.6974416 ,\n",
       "       -628.69855395, -629.6996663 , -630.70077864, -631.70189099,\n",
       "       -632.70300334, -633.70411568, -634.70522803, -635.70634038,\n",
       "       -636.70745273, -637.70856507, -638.70967742, -639.71078977,\n",
       "       -640.71190211, -641.71301446, -642.71412681, -643.71523915,\n",
       "       -644.7163515 , -645.71746385, -646.7185762 , -647.71968854,\n",
       "       -648.72080089, -649.72191324, -650.72302558, -651.72413793,\n",
       "       -652.72525028, -653.72636263, -654.72747497, -655.72858732,\n",
       "       -656.72969967, -657.73081201, -658.73192436, -659.73303671,\n",
       "       -660.73414905, -661.7352614 , -662.73637375, -663.7374861 ,\n",
       "       -664.73859844, -665.73971079, -666.74082314, -667.74193548,\n",
       "       -668.74304783, -669.74416018, -670.74527253, -671.74638487,\n",
       "       -672.74749722, -673.74860957, -674.74972191, -675.75083426,\n",
       "       -676.75194661, -677.75305895, -678.7541713 , -679.75528365,\n",
       "       -680.756396  , -681.75750834, -682.75862069, -683.75973304,\n",
       "       -684.76084538, -685.76195773, -686.76307008, -687.76418242,\n",
       "       -688.76529477, -689.76640712, -690.76751947, -691.76863181,\n",
       "       -692.76974416, -693.77085651, -694.77196885, -695.7730812 ,\n",
       "       -696.77419355, -697.7753059 , -698.77641824, -699.77753059,\n",
       "       -700.77864294, -701.77975528, -702.78086763, -703.78197998,\n",
       "       -704.78309232, -705.78420467, -706.78531702, -707.78642937,\n",
       "       -708.78754171, -709.78865406, -710.78976641, -711.79087875,\n",
       "       -712.7919911 , -713.79310345, -714.7942158 , -715.79532814,\n",
       "       -716.79644049, -717.79755284, -718.79866518, -719.79977753,\n",
       "       -720.80088988, -721.80200222, -722.80311457, -723.80422692,\n",
       "       -724.80533927, -725.80645161, -726.80756396, -727.80867631,\n",
       "       -728.80978865, -729.810901  , -730.81201335, -731.8131257 ,\n",
       "       -732.81423804, -733.81535039, -734.81646274, -735.81757508,\n",
       "       -736.81868743, -737.81979978, -738.82091212, -739.82202447,\n",
       "       -740.82313682, -741.82424917, -742.82536151, -743.82647386,\n",
       "       -744.82758621, -745.82869855, -746.8298109 , -747.83092325,\n",
       "       -748.8320356 , -749.83314794, -750.83426029, -751.83537264,\n",
       "       -752.83648498, -753.83759733, -754.83870968, -755.83982202,\n",
       "       -756.84093437, -757.84204672, -758.84315907, -759.84427141,\n",
       "       -760.84538376, -761.84649611, -762.84760845, -763.8487208 ,\n",
       "       -764.84983315, -765.85094549, -766.85205784, -767.85317019,\n",
       "       -768.85428254, -769.85539488, -770.85650723, -771.85761958,\n",
       "       -772.85873192, -773.85984427, -774.86095662, -775.86206897,\n",
       "       -776.86318131, -777.86429366, -778.86540601, -779.86651835,\n",
       "       -780.8676307 , -781.86874305, -782.86985539, -783.87096774,\n",
       "       -784.87208009, -785.87319244, -786.87430478, -787.87541713,\n",
       "       -788.87652948, -789.87764182, -790.87875417, -791.87986652,\n",
       "       -792.88097887, -793.88209121, -794.88320356, -795.88431591,\n",
       "       -796.88542825, -797.8865406 , -798.88765295, -799.88876529,\n",
       "       -800.88987764, -801.89098999, -802.89210234, -803.89321468,\n",
       "       -804.89432703, -805.89543938, -806.89655172, -807.89766407,\n",
       "       -808.89877642, -809.89988877, -810.90100111, -811.90211346,\n",
       "       -812.90322581, -813.90433815, -814.9054505 , -815.90656285,\n",
       "       -816.90767519, -817.90878754, -818.90989989, -819.91101224,\n",
       "       -820.91212458, -821.91323693, -822.91434928, -823.91546162,\n",
       "       -824.91657397, -825.91768632, -826.91879867, -827.91991101,\n",
       "       -828.92102336, -829.92213571, -830.92324805, -831.9243604 ,\n",
       "       -832.92547275, -833.92658509, -834.92769744, -835.92880979,\n",
       "       -836.92992214, -837.93103448, -838.93214683, -839.93325918,\n",
       "       -840.93437152, -841.93548387, -842.93659622, -843.93770857,\n",
       "       -844.93882091, -845.93993326, -846.94104561, -847.94215795,\n",
       "       -848.9432703 , -849.94438265, -850.94549499, -851.94660734,\n",
       "       -852.94771969, -853.94883204, -854.94994438, -855.95105673,\n",
       "       -856.95216908, -857.95328142, -858.95439377, -859.95550612,\n",
       "       -860.95661846, -861.95773081, -862.95884316, -863.95995551,\n",
       "       -864.96106785, -865.9621802 , -866.96329255, -867.96440489,\n",
       "       -868.96551724, -869.96662959, -870.96774194, -871.96885428,\n",
       "       -872.96996663, -873.97107898, -874.97219132, -875.97330367,\n",
       "       -876.97441602, -877.97552836, -878.97664071, -879.97775306,\n",
       "       -880.97886541, -881.97997775, -882.9810901 , -883.98220245,\n",
       "       -884.98331479, -885.98442714, -886.98553949, -887.98665184,\n",
       "       -888.98776418, -889.98887653, -890.98998888, -891.99110122,\n",
       "       -892.99221357, -893.99332592, -894.99443826, -895.99555061,\n",
       "       -896.99666296, -897.99777531, -898.99888765, -900.        ])"
      ]
     },
     "execution_count": 16,
     "metadata": {},
     "output_type": "execute_result"
    }
   ],
   "source": [
    "np.linspace(0,-900,num=900)"
   ]
  },
  {
   "cell_type": "code",
   "execution_count": 3,
   "metadata": {},
   "outputs": [],
   "source": [
    "deptPnts = np.linspace(0,-900,num=900)"
   ]
  },
  {
   "cell_type": "code",
   "execution_count": 4,
   "metadata": {},
   "outputs": [],
   "source": [
    "import matplotlib.pyplot as plt"
   ]
  },
  {
   "cell_type": "code",
   "execution_count": 21,
   "metadata": {
    "scrolled": true
   },
   "outputs": [
    {
     "data": {
      "image/png": "[encoded data removed]",
      "text/plain": [
       "<Figure size 432x288 with 1 Axes>"
      ]
     },
     "metadata": {
      "needs_background": "light"
     },
     "output_type": "display_data"
    }
   ],
   "source": [
    "fig = plt.plot(tempPnts, deptPnts, linewidth=2.0)"
   ]
  },
  {
   "cell_type": "code",
   "execution_count": 22,
   "metadata": {},
   "outputs": [
    {
     "ename": "AttributeError",
     "evalue": "'list' object has no attribute 'savefig'",
     "output_type": "error",
     "traceback": [
      "\u001b[1;31m---------------------------------------------------------------------------\u001b[0m",
      "\u001b[1;31mAttributeError\u001b[0m                            Traceback (most recent call last)",
      "\u001b[1;32m<ipython-input-22-0eb48fc1339f>\u001b[0m in \u001b[0;36m<module>\u001b[1;34m\u001b[0m\n\u001b[1;32m----> 1\u001b[1;33m \u001b[0mfig\u001b[0m\u001b[1;33m.\u001b[0m\u001b[0msavefig\u001b[0m\u001b[1;33m(\u001b[0m\u001b[1;34m'plot1.png'\u001b[0m\u001b[1;33m)\u001b[0m\u001b[1;33m\u001b[0m\u001b[1;33m\u001b[0m\u001b[0m\n\u001b[0m",
      "\u001b[1;31mAttributeError\u001b[0m: 'list' object has no attribute 'savefig'"
     ]
    }
   ],
   "source": [
    "fig.savefig('plot1.png')"
   ]
  },
  {
   "cell_type": "code",
   "execution_count": 23,
   "metadata": {},
   "outputs": [
    {
     "data": {
      "text/plain": [
       "[<matplotlib.lines.Line2D at 0x1ea664e1fc8>]"
      ]
     },
     "execution_count": 23,
     "metadata": {},
     "output_type": "execute_result"
    }
   ],
   "source": [
    "fig"
   ]
  },
  {
   "cell_type": "code",
   "execution_count": 24,
   "metadata": {},
   "outputs": [
    {
     "data": {
      "image/png": "[encoded data removed]",
      "text/plain": [
       "<Figure size 432x288 with 1 Axes>"
      ]
     },
     "metadata": {
      "needs_background": "light"
     },
     "output_type": "display_data"
    }
   ],
   "source": [
    "fig, ax = plt.subplots( nrows=1, ncols=1 )"
   ]
  },
  {
   "cell_type": "code",
   "execution_count": 25,
   "metadata": {},
   "outputs": [
    {
     "data": {
      "text/plain": [
       "[<matplotlib.lines.Line2D at 0x1ea665738c8>]"
      ]
     },
     "execution_count": 25,
     "metadata": {},
     "output_type": "execute_result"
    }
   ],
   "source": [
    "ax.plot(tempPnts, deptPnts, linewidth=2.0)"
   ]
  },
  {
   "cell_type": "code",
   "execution_count": 26,
   "metadata": {},
   "outputs": [],
   "source": [
    "fig.savefig('plot1.png')"
   ]
  },
  {
   "cell_type": "code",
   "execution_count": 27,
   "metadata": {},
   "outputs": [],
   "source": [
    "plt.close(fig)"
   ]
  },
  {
   "cell_type": "code",
   "execution_count": 6,
   "metadata": {
    "scrolled": true
   },
   "outputs": [
    {
     "data": {
      "image/png": "[encoded data removed]",
      "text/plain": [
       "<Figure size 720x720 with 1 Axes>"
      ]
     },
     "metadata": {
      "needs_background": "light"
     },
     "output_type": "display_data"
    }
   ],
   "source": [
    "fig, ax = plt.subplots(figsize=(10, 10))\n",
    "#ax.set_xlim([-2.5, 36]) \n",
    "#ax.set_ylim([0, --1000])\n",
    "ax.plot(tempPnts, deptPnts, linewidth=2.0)\n",
    "\n",
    "fig.patch.set_visible(False)\n",
    "#ax.axis('off')\n",
    "\n",
    "plt.gca().invert_yaxis()\n",
    "\n",
    "#with open('plot2.png', 'wb') as tofile:\n",
    "#    fig.canvas.print_png(tofile)"
   ]
  },
  {
   "cell_type": "code",
   "execution_count": 2,
   "metadata": {},
   "outputs": [],
   "source": [
    "from skimage.io import imread, imshow"
   ]
  },
  {
   "cell_type": "code",
   "execution_count": 3,
   "metadata": {},
   "outputs": [
    {
     "name": "stderr",
     "output_type": "stream",
     "text": [
      "C:\\Users\\user\\anaconda3\\lib\\site-packages\\skimage\\io\\_plugins\\matplotlib_plugin.py:150: UserWarning: Low image data range; displaying image with stretched contrast.\n",
      "  lo, hi, cmap = _get_display_range(image)\n"
     ]
    },
    {
     "data": {
      "text/plain": [
       "<matplotlib.image.AxesImage at 0x1d753a4c588>"
      ]
     },
     "execution_count": 3,
     "metadata": {},
     "output_type": "execute_result"
    },
    {
     "data": {
      "image/png": "[encoded data removed]",
      "text/plain": [
       "<Figure size 432x288 with 2 Axes>"
      ]
     },
     "metadata": {
      "needs_background": "light"
     },
     "output_type": "display_data"
    }
   ],
   "source": [
    "image = imread('plot2.png', as_gray=True)\n",
    "imshow(image)"
   ]
  },
  {
   "cell_type": "code",
   "execution_count": 5,
   "metadata": {},
   "outputs": [
    {
     "data": {
      "text/plain": [
       "(720, 720)"
      ]
     },
     "execution_count": 5,
     "metadata": {},
     "output_type": "execute_result"
    }
   ],
   "source": [
    "image.shape"
   ]
  },
  {
   "cell_type": "code",
   "execution_count": 43,
   "metadata": {},
   "outputs": [],
   "source": [
    "imglen, imgwid = image.shape"
   ]
  },
  {
   "cell_type": "code",
   "execution_count": 44,
   "metadata": {},
   "outputs": [
    {
     "data": {
      "text/plain": [
       "((518400,), array([1., 1., 1., ..., 1., 1., 1.]))"
      ]
     },
     "execution_count": 44,
     "metadata": {},
     "output_type": "execute_result"
    }
   ],
   "source": [
    "features = np.reshape(image, (imglen*imgwid))\n",
    "\n",
    "features.shape, features"
   ]
  },
  {
   "cell_type": "code",
   "execution_count": 45,
   "metadata": {},
   "outputs": [
    {
     "data": {
      "text/plain": [
       "array([0.41058078, 1.        ])"
      ]
     },
     "execution_count": 45,
     "metadata": {},
     "output_type": "execute_result"
    }
   ],
   "source": [
    "np.unique(features)"
   ]
  },
  {
   "cell_type": "code",
   "execution_count": null,
   "metadata": {},
   "outputs": [],
   "source": []
  }
 ],
 "metadata": {
  "kernelspec": {
   "display_name": "Python 3",
   "language": "python",
   "name": "python3"
  },
  "language_info": {
   "codemirror_mode": {
    "name": "ipython",
    "version": 3
   },
   "file_extension": ".py",
   "mimetype": "text/x-python",
   "name": "python",
   "nbconvert_exporter": "python",
   "pygments_lexer": "ipython3",
   "version": "3.7.7"
  }
 },
 "nbformat": 4,
 "nbformat_minor": 4
}
